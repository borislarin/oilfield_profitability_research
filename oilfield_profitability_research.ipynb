{
 "cells": [
  {
   "cell_type": "markdown",
   "metadata": {},
   "source": [
    "---\n",
    "# Исследование рентабельности нефтедобычи\n",
    "\n",
    "---\n",
    "\n",
    "\n",
    "<u>**Цель проекта**</u>: Определение региона, в котором бурение новой скважины будет наиболее прибыльным.\n",
    "\n",
    "<u>**Сферы деятельности компаний**</u>: нефтяная промышленность\n",
    "\n",
    "<u>**Навыки и инструменты**</u>: работа с метриками, расчёт прибыли и рисков, bootstrap, визуализация в Seaborn"
   ]
  },
  {
   "cell_type": "markdown",
   "metadata": {},
   "source": [
    "# 1. Загрузка и подготовка данных"
   ]
  },
  {
   "cell_type": "code",
   "execution_count": 1,
   "metadata": {},
   "outputs": [],
   "source": [
    "import pandas as pd\n",
    "import numpy as np\n",
    "import math as m\n",
    "from scipy import stats as st\n",
    "import matplotlib.pyplot as plt\n",
    "import seaborn as sns"
   ]
  },
  {
   "cell_type": "code",
   "execution_count": 2,
   "metadata": {},
   "outputs": [],
   "source": [
    "from pylab import rcParams\n",
    "%matplotlib inline\n",
    "rcParams['figure.figsize'] = 12, 10 #закомментировать в случае возникновения проблем :)\n",
    "sns.set(rc={'figure.figsize':(14,10)})"
   ]
  },
  {
   "cell_type": "code",
   "execution_count": 3,
   "metadata": {},
   "outputs": [],
   "source": [
    "import warnings\n",
    "warnings.simplefilter('ignore')\n",
    "\n",
    "from tqdm.notebook import tqdm"
   ]
  },
  {
   "cell_type": "code",
   "execution_count": 4,
   "metadata": {},
   "outputs": [],
   "source": [
    "from sklearn.model_selection import train_test_split\n",
    "\n",
    "from sklearn.preprocessing import OrdinalEncoder, StandardScaler\n",
    "\n",
    "from sklearn.utils import shuffle\n",
    "\n",
    "from sklearn.linear_model import LinearRegression\n",
    "\n",
    "from sklearn.dummy import DummyClassifier\n",
    "\n",
    "from sklearn.model_selection import RandomizedSearchCV, GridSearchCV\n",
    "\n",
    "from sklearn.metrics import (accuracy_score, r2_score, f1_score, mean_squared_error,\n",
    "                             mean_absolute_error, precision_score, recall_score,\n",
    "                             precision_recall_curve, confusion_matrix, roc_curve, roc_auc_score)\n",
    "\n",
    "import joblib"
   ]
  },
  {
   "cell_type": "code",
   "execution_count": 5,
   "metadata": {},
   "outputs": [],
   "source": [
    "data_1 = pd.read_csv(...)\n",
    "data_2 = pd.read_csv(...)\n",
    "data_3 = pd.read_csv(...)"
   ]
  },
  {
   "cell_type": "code",
   "execution_count": 6,
   "metadata": {
    "scrolled": false
   },
   "outputs": [
    {
     "name": "stdout",
     "output_type": "stream",
     "text": [
      "data_1\n"
     ]
    },
    {
     "data": {
      "text/html": [
       "<div>\n",
       "<style scoped>\n",
       "    .dataframe tbody tr th:only-of-type {\n",
       "        vertical-align: middle;\n",
       "    }\n",
       "\n",
       "    .dataframe tbody tr th {\n",
       "        vertical-align: top;\n",
       "    }\n",
       "\n",
       "    .dataframe thead th {\n",
       "        text-align: right;\n",
       "    }\n",
       "</style>\n",
       "<table border=\"1\" class=\"dataframe\">\n",
       "  <thead>\n",
       "    <tr style=\"text-align: right;\">\n",
       "      <th></th>\n",
       "      <th>id</th>\n",
       "      <th>f0</th>\n",
       "      <th>f1</th>\n",
       "      <th>f2</th>\n",
       "      <th>product</th>\n",
       "    </tr>\n",
       "  </thead>\n",
       "  <tbody>\n",
       "    <tr>\n",
       "      <th>0</th>\n",
       "      <td>txEyH</td>\n",
       "      <td>0.705745</td>\n",
       "      <td>-0.497823</td>\n",
       "      <td>1.221170</td>\n",
       "      <td>105.280062</td>\n",
       "    </tr>\n",
       "    <tr>\n",
       "      <th>1</th>\n",
       "      <td>2acmU</td>\n",
       "      <td>1.334711</td>\n",
       "      <td>-0.340164</td>\n",
       "      <td>4.365080</td>\n",
       "      <td>73.037750</td>\n",
       "    </tr>\n",
       "    <tr>\n",
       "      <th>2</th>\n",
       "      <td>409Wp</td>\n",
       "      <td>1.022732</td>\n",
       "      <td>0.151990</td>\n",
       "      <td>1.419926</td>\n",
       "      <td>85.265647</td>\n",
       "    </tr>\n",
       "    <tr>\n",
       "      <th>3</th>\n",
       "      <td>iJLyR</td>\n",
       "      <td>-0.032172</td>\n",
       "      <td>0.139033</td>\n",
       "      <td>2.978566</td>\n",
       "      <td>168.620776</td>\n",
       "    </tr>\n",
       "    <tr>\n",
       "      <th>4</th>\n",
       "      <td>Xdl7t</td>\n",
       "      <td>1.988431</td>\n",
       "      <td>0.155413</td>\n",
       "      <td>4.751769</td>\n",
       "      <td>154.036647</td>\n",
       "    </tr>\n",
       "    <tr>\n",
       "      <th>...</th>\n",
       "      <td>...</td>\n",
       "      <td>...</td>\n",
       "      <td>...</td>\n",
       "      <td>...</td>\n",
       "      <td>...</td>\n",
       "    </tr>\n",
       "    <tr>\n",
       "      <th>99995</th>\n",
       "      <td>DLsed</td>\n",
       "      <td>0.971957</td>\n",
       "      <td>0.370953</td>\n",
       "      <td>6.075346</td>\n",
       "      <td>110.744026</td>\n",
       "    </tr>\n",
       "    <tr>\n",
       "      <th>99996</th>\n",
       "      <td>QKivN</td>\n",
       "      <td>1.392429</td>\n",
       "      <td>-0.382606</td>\n",
       "      <td>1.273912</td>\n",
       "      <td>122.346843</td>\n",
       "    </tr>\n",
       "    <tr>\n",
       "      <th>99997</th>\n",
       "      <td>3rnvd</td>\n",
       "      <td>1.029585</td>\n",
       "      <td>0.018787</td>\n",
       "      <td>-1.348308</td>\n",
       "      <td>64.375443</td>\n",
       "    </tr>\n",
       "    <tr>\n",
       "      <th>99998</th>\n",
       "      <td>7kl59</td>\n",
       "      <td>0.998163</td>\n",
       "      <td>-0.528582</td>\n",
       "      <td>1.583869</td>\n",
       "      <td>74.040764</td>\n",
       "    </tr>\n",
       "    <tr>\n",
       "      <th>99999</th>\n",
       "      <td>1CWhH</td>\n",
       "      <td>1.764754</td>\n",
       "      <td>-0.266417</td>\n",
       "      <td>5.722849</td>\n",
       "      <td>149.633246</td>\n",
       "    </tr>\n",
       "  </tbody>\n",
       "</table>\n",
       "<p>100000 rows × 5 columns</p>\n",
       "</div>"
      ],
      "text/plain": [
       "          id        f0        f1        f2     product\n",
       "0      txEyH  0.705745 -0.497823  1.221170  105.280062\n",
       "1      2acmU  1.334711 -0.340164  4.365080   73.037750\n",
       "2      409Wp  1.022732  0.151990  1.419926   85.265647\n",
       "3      iJLyR -0.032172  0.139033  2.978566  168.620776\n",
       "4      Xdl7t  1.988431  0.155413  4.751769  154.036647\n",
       "...      ...       ...       ...       ...         ...\n",
       "99995  DLsed  0.971957  0.370953  6.075346  110.744026\n",
       "99996  QKivN  1.392429 -0.382606  1.273912  122.346843\n",
       "99997  3rnvd  1.029585  0.018787 -1.348308   64.375443\n",
       "99998  7kl59  0.998163 -0.528582  1.583869   74.040764\n",
       "99999  1CWhH  1.764754 -0.266417  5.722849  149.633246\n",
       "\n",
       "[100000 rows x 5 columns]"
      ]
     },
     "metadata": {},
     "output_type": "display_data"
    },
    {
     "name": "stdout",
     "output_type": "stream",
     "text": [
      "<class 'pandas.core.frame.DataFrame'>\n",
      "RangeIndex: 100000 entries, 0 to 99999\n",
      "Data columns (total 5 columns):\n",
      " #   Column   Non-Null Count   Dtype  \n",
      "---  ------   --------------   -----  \n",
      " 0   id       100000 non-null  object \n",
      " 1   f0       100000 non-null  float64\n",
      " 2   f1       100000 non-null  float64\n",
      " 3   f2       100000 non-null  float64\n",
      " 4   product  100000 non-null  float64\n",
      "dtypes: float64(4), object(1)\n",
      "memory usage: 3.8+ MB\n",
      "None\n",
      "                  f0             f1             f2        product\n",
      "count  100000.000000  100000.000000  100000.000000  100000.000000\n",
      "mean        0.500419       0.250143       2.502647      92.500000\n",
      "std         0.871832       0.504433       3.248248      44.288691\n",
      "min        -1.408605      -0.848218     -12.088328       0.000000\n",
      "25%        -0.072580      -0.200881       0.287748      56.497507\n",
      "50%         0.502360       0.250252       2.515969      91.849972\n",
      "75%         1.073581       0.700646       4.715088     128.564089\n",
      "max         2.362331       1.343769      16.003790     185.364347\n",
      "\n",
      "Пропусков в data_1: 0\n",
      "\n",
      "\n",
      "\n",
      "data_2\n"
     ]
    },
    {
     "data": {
      "text/html": [
       "<div>\n",
       "<style scoped>\n",
       "    .dataframe tbody tr th:only-of-type {\n",
       "        vertical-align: middle;\n",
       "    }\n",
       "\n",
       "    .dataframe tbody tr th {\n",
       "        vertical-align: top;\n",
       "    }\n",
       "\n",
       "    .dataframe thead th {\n",
       "        text-align: right;\n",
       "    }\n",
       "</style>\n",
       "<table border=\"1\" class=\"dataframe\">\n",
       "  <thead>\n",
       "    <tr style=\"text-align: right;\">\n",
       "      <th></th>\n",
       "      <th>id</th>\n",
       "      <th>f0</th>\n",
       "      <th>f1</th>\n",
       "      <th>f2</th>\n",
       "      <th>product</th>\n",
       "    </tr>\n",
       "  </thead>\n",
       "  <tbody>\n",
       "    <tr>\n",
       "      <th>0</th>\n",
       "      <td>kBEdx</td>\n",
       "      <td>-15.001348</td>\n",
       "      <td>-8.276000</td>\n",
       "      <td>-0.005876</td>\n",
       "      <td>3.179103</td>\n",
       "    </tr>\n",
       "    <tr>\n",
       "      <th>1</th>\n",
       "      <td>62mP7</td>\n",
       "      <td>14.272088</td>\n",
       "      <td>-3.475083</td>\n",
       "      <td>0.999183</td>\n",
       "      <td>26.953261</td>\n",
       "    </tr>\n",
       "    <tr>\n",
       "      <th>2</th>\n",
       "      <td>vyE1P</td>\n",
       "      <td>6.263187</td>\n",
       "      <td>-5.948386</td>\n",
       "      <td>5.001160</td>\n",
       "      <td>134.766305</td>\n",
       "    </tr>\n",
       "    <tr>\n",
       "      <th>3</th>\n",
       "      <td>KcrkZ</td>\n",
       "      <td>-13.081196</td>\n",
       "      <td>-11.506057</td>\n",
       "      <td>4.999415</td>\n",
       "      <td>137.945408</td>\n",
       "    </tr>\n",
       "    <tr>\n",
       "      <th>4</th>\n",
       "      <td>AHL4O</td>\n",
       "      <td>12.702195</td>\n",
       "      <td>-8.147433</td>\n",
       "      <td>5.004363</td>\n",
       "      <td>134.766305</td>\n",
       "    </tr>\n",
       "    <tr>\n",
       "      <th>...</th>\n",
       "      <td>...</td>\n",
       "      <td>...</td>\n",
       "      <td>...</td>\n",
       "      <td>...</td>\n",
       "      <td>...</td>\n",
       "    </tr>\n",
       "    <tr>\n",
       "      <th>99995</th>\n",
       "      <td>QywKC</td>\n",
       "      <td>9.535637</td>\n",
       "      <td>-6.878139</td>\n",
       "      <td>1.998296</td>\n",
       "      <td>53.906522</td>\n",
       "    </tr>\n",
       "    <tr>\n",
       "      <th>99996</th>\n",
       "      <td>ptvty</td>\n",
       "      <td>-10.160631</td>\n",
       "      <td>-12.558096</td>\n",
       "      <td>5.005581</td>\n",
       "      <td>137.945408</td>\n",
       "    </tr>\n",
       "    <tr>\n",
       "      <th>99997</th>\n",
       "      <td>09gWa</td>\n",
       "      <td>-7.378891</td>\n",
       "      <td>-3.084104</td>\n",
       "      <td>4.998651</td>\n",
       "      <td>137.945408</td>\n",
       "    </tr>\n",
       "    <tr>\n",
       "      <th>99998</th>\n",
       "      <td>rqwUm</td>\n",
       "      <td>0.665714</td>\n",
       "      <td>-6.152593</td>\n",
       "      <td>1.000146</td>\n",
       "      <td>30.132364</td>\n",
       "    </tr>\n",
       "    <tr>\n",
       "      <th>99999</th>\n",
       "      <td>relB0</td>\n",
       "      <td>-3.426139</td>\n",
       "      <td>-7.794274</td>\n",
       "      <td>-0.003299</td>\n",
       "      <td>3.179103</td>\n",
       "    </tr>\n",
       "  </tbody>\n",
       "</table>\n",
       "<p>100000 rows × 5 columns</p>\n",
       "</div>"
      ],
      "text/plain": [
       "          id         f0         f1        f2     product\n",
       "0      kBEdx -15.001348  -8.276000 -0.005876    3.179103\n",
       "1      62mP7  14.272088  -3.475083  0.999183   26.953261\n",
       "2      vyE1P   6.263187  -5.948386  5.001160  134.766305\n",
       "3      KcrkZ -13.081196 -11.506057  4.999415  137.945408\n",
       "4      AHL4O  12.702195  -8.147433  5.004363  134.766305\n",
       "...      ...        ...        ...       ...         ...\n",
       "99995  QywKC   9.535637  -6.878139  1.998296   53.906522\n",
       "99996  ptvty -10.160631 -12.558096  5.005581  137.945408\n",
       "99997  09gWa  -7.378891  -3.084104  4.998651  137.945408\n",
       "99998  rqwUm   0.665714  -6.152593  1.000146   30.132364\n",
       "99999  relB0  -3.426139  -7.794274 -0.003299    3.179103\n",
       "\n",
       "[100000 rows x 5 columns]"
      ]
     },
     "metadata": {},
     "output_type": "display_data"
    },
    {
     "name": "stdout",
     "output_type": "stream",
     "text": [
      "<class 'pandas.core.frame.DataFrame'>\n",
      "RangeIndex: 100000 entries, 0 to 99999\n",
      "Data columns (total 5 columns):\n",
      " #   Column   Non-Null Count   Dtype  \n",
      "---  ------   --------------   -----  \n",
      " 0   id       100000 non-null  object \n",
      " 1   f0       100000 non-null  float64\n",
      " 2   f1       100000 non-null  float64\n",
      " 3   f2       100000 non-null  float64\n",
      " 4   product  100000 non-null  float64\n",
      "dtypes: float64(4), object(1)\n",
      "memory usage: 3.8+ MB\n",
      "None\n",
      "                  f0             f1             f2        product\n",
      "count  100000.000000  100000.000000  100000.000000  100000.000000\n",
      "mean        1.141296      -4.796579       2.494541      68.825000\n",
      "std         8.965932       5.119872       1.703572      45.944423\n",
      "min       -31.609576     -26.358598      -0.018144       0.000000\n",
      "25%        -6.298551      -8.267985       1.000021      26.953261\n",
      "50%         1.153055      -4.813172       2.011479      57.085625\n",
      "75%         8.621015      -1.332816       3.999904     107.813044\n",
      "max        29.421755      18.734063       5.019721     137.945408\n",
      "\n",
      "Пропусков в data_2: 0\n",
      "\n",
      "\n",
      "\n",
      "data_3\n"
     ]
    },
    {
     "data": {
      "text/html": [
       "<div>\n",
       "<style scoped>\n",
       "    .dataframe tbody tr th:only-of-type {\n",
       "        vertical-align: middle;\n",
       "    }\n",
       "\n",
       "    .dataframe tbody tr th {\n",
       "        vertical-align: top;\n",
       "    }\n",
       "\n",
       "    .dataframe thead th {\n",
       "        text-align: right;\n",
       "    }\n",
       "</style>\n",
       "<table border=\"1\" class=\"dataframe\">\n",
       "  <thead>\n",
       "    <tr style=\"text-align: right;\">\n",
       "      <th></th>\n",
       "      <th>id</th>\n",
       "      <th>f0</th>\n",
       "      <th>f1</th>\n",
       "      <th>f2</th>\n",
       "      <th>product</th>\n",
       "    </tr>\n",
       "  </thead>\n",
       "  <tbody>\n",
       "    <tr>\n",
       "      <th>0</th>\n",
       "      <td>fwXo0</td>\n",
       "      <td>-1.146987</td>\n",
       "      <td>0.963328</td>\n",
       "      <td>-0.828965</td>\n",
       "      <td>27.758673</td>\n",
       "    </tr>\n",
       "    <tr>\n",
       "      <th>1</th>\n",
       "      <td>WJtFt</td>\n",
       "      <td>0.262778</td>\n",
       "      <td>0.269839</td>\n",
       "      <td>-2.530187</td>\n",
       "      <td>56.069697</td>\n",
       "    </tr>\n",
       "    <tr>\n",
       "      <th>2</th>\n",
       "      <td>ovLUW</td>\n",
       "      <td>0.194587</td>\n",
       "      <td>0.289035</td>\n",
       "      <td>-5.586433</td>\n",
       "      <td>62.871910</td>\n",
       "    </tr>\n",
       "    <tr>\n",
       "      <th>3</th>\n",
       "      <td>q6cA6</td>\n",
       "      <td>2.236060</td>\n",
       "      <td>-0.553760</td>\n",
       "      <td>0.930038</td>\n",
       "      <td>114.572842</td>\n",
       "    </tr>\n",
       "    <tr>\n",
       "      <th>4</th>\n",
       "      <td>WPMUX</td>\n",
       "      <td>-0.515993</td>\n",
       "      <td>1.716266</td>\n",
       "      <td>5.899011</td>\n",
       "      <td>149.600746</td>\n",
       "    </tr>\n",
       "    <tr>\n",
       "      <th>...</th>\n",
       "      <td>...</td>\n",
       "      <td>...</td>\n",
       "      <td>...</td>\n",
       "      <td>...</td>\n",
       "      <td>...</td>\n",
       "    </tr>\n",
       "    <tr>\n",
       "      <th>99995</th>\n",
       "      <td>4GxBu</td>\n",
       "      <td>-1.777037</td>\n",
       "      <td>1.125220</td>\n",
       "      <td>6.263374</td>\n",
       "      <td>172.327046</td>\n",
       "    </tr>\n",
       "    <tr>\n",
       "      <th>99996</th>\n",
       "      <td>YKFjq</td>\n",
       "      <td>-1.261523</td>\n",
       "      <td>-0.894828</td>\n",
       "      <td>2.524545</td>\n",
       "      <td>138.748846</td>\n",
       "    </tr>\n",
       "    <tr>\n",
       "      <th>99997</th>\n",
       "      <td>tKPY3</td>\n",
       "      <td>-1.199934</td>\n",
       "      <td>-2.957637</td>\n",
       "      <td>5.219411</td>\n",
       "      <td>157.080080</td>\n",
       "    </tr>\n",
       "    <tr>\n",
       "      <th>99998</th>\n",
       "      <td>nmxp2</td>\n",
       "      <td>-2.419896</td>\n",
       "      <td>2.417221</td>\n",
       "      <td>-5.548444</td>\n",
       "      <td>51.795253</td>\n",
       "    </tr>\n",
       "    <tr>\n",
       "      <th>99999</th>\n",
       "      <td>V9kWn</td>\n",
       "      <td>-2.551421</td>\n",
       "      <td>-2.025625</td>\n",
       "      <td>6.090891</td>\n",
       "      <td>102.775767</td>\n",
       "    </tr>\n",
       "  </tbody>\n",
       "</table>\n",
       "<p>100000 rows × 5 columns</p>\n",
       "</div>"
      ],
      "text/plain": [
       "          id        f0        f1        f2     product\n",
       "0      fwXo0 -1.146987  0.963328 -0.828965   27.758673\n",
       "1      WJtFt  0.262778  0.269839 -2.530187   56.069697\n",
       "2      ovLUW  0.194587  0.289035 -5.586433   62.871910\n",
       "3      q6cA6  2.236060 -0.553760  0.930038  114.572842\n",
       "4      WPMUX -0.515993  1.716266  5.899011  149.600746\n",
       "...      ...       ...       ...       ...         ...\n",
       "99995  4GxBu -1.777037  1.125220  6.263374  172.327046\n",
       "99996  YKFjq -1.261523 -0.894828  2.524545  138.748846\n",
       "99997  tKPY3 -1.199934 -2.957637  5.219411  157.080080\n",
       "99998  nmxp2 -2.419896  2.417221 -5.548444   51.795253\n",
       "99999  V9kWn -2.551421 -2.025625  6.090891  102.775767\n",
       "\n",
       "[100000 rows x 5 columns]"
      ]
     },
     "metadata": {},
     "output_type": "display_data"
    },
    {
     "name": "stdout",
     "output_type": "stream",
     "text": [
      "<class 'pandas.core.frame.DataFrame'>\n",
      "RangeIndex: 100000 entries, 0 to 99999\n",
      "Data columns (total 5 columns):\n",
      " #   Column   Non-Null Count   Dtype  \n",
      "---  ------   --------------   -----  \n",
      " 0   id       100000 non-null  object \n",
      " 1   f0       100000 non-null  float64\n",
      " 2   f1       100000 non-null  float64\n",
      " 3   f2       100000 non-null  float64\n",
      " 4   product  100000 non-null  float64\n",
      "dtypes: float64(4), object(1)\n",
      "memory usage: 3.8+ MB\n",
      "None\n",
      "                  f0             f1             f2        product\n",
      "count  100000.000000  100000.000000  100000.000000  100000.000000\n",
      "mean        0.002023      -0.002081       2.495128      95.000000\n",
      "std         1.732045       1.730417       3.473445      44.749921\n",
      "min        -8.760004      -7.084020     -11.970335       0.000000\n",
      "25%        -1.162288      -1.174820       0.130359      59.450441\n",
      "50%         0.009424      -0.009482       2.484236      94.925613\n",
      "75%         1.158535       1.163678       4.858794     130.595027\n",
      "max         7.238262       7.844801      16.739402     190.029838\n",
      "Пропусков в data_3: 0\n"
     ]
    }
   ],
   "source": [
    "print('data_1')\n",
    "display(data_1)\n",
    "print(data_1.info())\n",
    "print(data_1.describe())\n",
    "print()\n",
    "print('Пропусков в data_1:', data_1.isna().sum().sum())\n",
    "\n",
    "print()\n",
    "print()\n",
    "print()\n",
    "\n",
    "print('data_2')\n",
    "display(data_2)\n",
    "print(data_2.info())\n",
    "print(data_2.describe())\n",
    "print()\n",
    "print('Пропусков в data_2:', data_2.isna().sum().sum())\n",
    "\n",
    "print()\n",
    "print()\n",
    "print()\n",
    "\n",
    "print('data_3')\n",
    "display(data_3)\n",
    "print(data_3.info())\n",
    "print(data_3.describe())\n",
    "print('Пропусков в data_3:', data_3.isna().sum().sum())"
   ]
  },
  {
   "cell_type": "markdown",
   "metadata": {},
   "source": [
    "Во всех трёх датасетах **пропуски отсутствуют**.\n",
    "\n",
    "Видно, что признаки *'f0'*, *'f1'* и *'f2'* уже **масштабированы методом стандартизации**.\n",
    "\n",
    "В каждом наборе данных есть информация о скважинах, в которых **нефть отсутствует**."
   ]
  },
  {
   "cell_type": "markdown",
   "metadata": {},
   "source": [
    "На всякий случай проверим, сколько таких \"псевдоместорождений\" присутствует в каждой из выборок:"
   ]
  },
  {
   "cell_type": "code",
   "execution_count": 7,
   "metadata": {},
   "outputs": [
    {
     "name": "stdout",
     "output_type": "stream",
     "text": [
      "Регион 1: 1\n",
      "Регион 2: 8235\n",
      "Регион 3: 1\n"
     ]
    }
   ],
   "source": [
    "print('Регион 1:', data_1.query('product == 0')['product'].count())\n",
    "print('Регион 2:', data_2.query('product == 0')['product'].count())\n",
    "print('Регион 3:', data_3.query('product == 0')['product'].count())"
   ]
  },
  {
   "cell_type": "markdown",
   "metadata": {},
   "source": [
    "В первом и третьем регионах всё нормально, а **во втором регионе 8,235% месторождений не содержат нефти.**\n",
    "\n",
    "Оставим данные о \"псевдоместорождениях\" в покое — они являются ценными, и **исключать из выборки их нельзя**."
   ]
  },
  {
   "cell_type": "markdown",
   "metadata": {},
   "source": [
    "Разделим каждую из выборок на обучающую и валидационную подвыборки в соотношении 75:25, проверим получившееся соотношение:"
   ]
  },
  {
   "cell_type": "code",
   "execution_count": 8,
   "metadata": {},
   "outputs": [
    {
     "name": "stdout",
     "output_type": "stream",
     "text": [
      "Доля обучающей выборки 1:       75%\n",
      "Доля валидационной выборки 1:   25%\n",
      "\n",
      "Доля обучающей выборки 2:       75%\n",
      "Доля валидационной выборки 2:   25%\n",
      "\n",
      "Доля обучающей выборки 3:       75%\n",
      "Доля валидационной выборки 3:   25%\n"
     ]
    }
   ],
   "source": [
    "target_1 = data_1['product']\n",
    "features_1 = data_1.drop(['product'], axis=1).drop(['id'], axis=1)\n",
    "\n",
    "target_2 = data_2['product']\n",
    "features_2 = data_2.drop(['product'], axis=1).drop(['id'], axis=1)\n",
    "\n",
    "target_3 = data_3['product']\n",
    "features_3 = data_3.drop(['product'], axis=1).drop(['id'], axis=1)\n",
    "\n",
    "features_train_1, features_valid_1, target_train_1, target_valid_1 = train_test_split(features_1,\n",
    "                                                                                      target_1,\n",
    "                                                                                      test_size=0.25,\n",
    "                                                                                      random_state=12345)\n",
    "\n",
    "print('{: <30}{: >5.0%}'.format('Доля обучающей выборки 1:', len(features_train_1)/len(data_1)))\n",
    "print('{: <30}{: >5.0%}'.format('Доля валидационной выборки 1:', len(features_valid_1)/len(data_1)))\n",
    "\n",
    "print()\n",
    "\n",
    "features_train_2, features_valid_2, target_train_2, target_valid_2 = train_test_split(features_2,\n",
    "                                                                                      target_2,\n",
    "                                                                                      test_size=0.25,\n",
    "                                                                                      random_state=12345)\n",
    "\n",
    "print('{: <30}{: >5.0%}'.format('Доля обучающей выборки 2:', len(features_train_2)/len(data_2)))\n",
    "print('{: <30}{: >5.0%}'.format('Доля валидационной выборки 2:', len(features_valid_2)/len(data_2)))\n",
    "\n",
    "print()\n",
    "\n",
    "features_train_3, features_valid_3, target_train_3, target_valid_3 = train_test_split(features_3,\n",
    "                                                                                      target_3,\n",
    "                                                                                      test_size=0.25,\n",
    "                                                                                      random_state=12345)\n",
    "\n",
    "print('{: <30}{: >5.0%}'.format('Доля обучающей выборки 3:', len(features_train_3)/len(data_3)))\n",
    "print('{: <30}{: >5.0%}'.format('Доля валидационной выборки 3:', len(features_valid_3)/len(data_3)))"
   ]
  },
  {
   "cell_type": "markdown",
   "metadata": {},
   "source": [
    "<div style=\"border: solid darkcyan 3px; padding: 30px\">\n",
    "    <h3 style=\"color:black; margin-bottom:25px\"> Выводы: </h3>\n",
    "    <ul>\n",
    "        <li><b>Загружен датасет, получена общая информация</b>;</li>\n",
    "        <li><b>Признаки f0, f1 и f2 изначально получены в масштабированном виде, пропуски отсутствуют</b>;</li>\n",
    "        <li><b>Обнаружено большое количество данных о месторождениях во втором регионе, не содержащих нефти. Принято решение использовать все предоставленные данные</b>;</li>\n",
    "        <li><b>Произведено разделение каждой из трёх из выборок на обучающую и валидационную подвыборки в соотношении 75:25</b>.</li>\n",
    "    </ul>\n",
    "</div>"
   ]
  },
  {
   "cell_type": "markdown",
   "metadata": {},
   "source": [
    "# 2. Обучение и проверка модели"
   ]
  },
  {
   "cell_type": "markdown",
   "metadata": {},
   "source": [
    "Для расчёта среднего запаса предсказанного сырья и RMSE создадим функцию ***score_model***, в качестве модели будем использовать **линейную регрессию**:"
   ]
  },
  {
   "cell_type": "code",
   "execution_count": 9,
   "metadata": {},
   "outputs": [],
   "source": [
    "def score_model(features_train, target_train, features_valid, target_valid):\n",
    "    \n",
    "    predictions = (LinearRegression(n_jobs=-1)\n",
    "                   .fit(features_train, target_train)\n",
    "                   .predict(features_valid))\n",
    "    rmse = mean_squared_error(predictions, target_valid)**0.5\n",
    "    \n",
    "    return predictions, rmse"
   ]
  },
  {
   "cell_type": "code",
   "execution_count": 10,
   "metadata": {},
   "outputs": [
    {
     "name": "stdout",
     "output_type": "stream",
     "text": [
      "Регион 1:\n",
      "Средний запас предсказанного сырья: 92.59 тыс. баррелей\n",
      "RMSE: 37.58\n",
      "\n",
      "Регион 2:\n",
      "Средний запас предсказанного сырья: 68.73 тыс. баррелей\n",
      "RMSE: 0.89\n",
      "\n",
      "Регион 3:\n",
      "Средний запас предсказанного сырья: 94.97 тыс. баррелей\n",
      "RMSE: 40.03\n",
      "\n"
     ]
    }
   ],
   "source": [
    "predictions_1, rmse_1 = score_model(features_train_1, target_train_1, features_valid_1, target_valid_1)\n",
    "print('Регион 1:')\n",
    "print('Средний запас предсказанного сырья: {:.2f} тыс. баррелей'.format(predictions_1.mean()))\n",
    "print('RMSE: {:.2f}'.format(rmse_1))\n",
    "print()\n",
    "\n",
    "predictions_2, rmse_2 = score_model(features_train_2, target_train_2, features_valid_2, target_valid_2)\n",
    "print('Регион 2:')\n",
    "print('Средний запас предсказанного сырья: {:.2f} тыс. баррелей'.format(predictions_2.mean()))\n",
    "print('RMSE: {:.2f}'.format(rmse_2))\n",
    "print()\n",
    "\n",
    "predictions_3, rmse_3 = score_model(features_train_3, target_train_3, features_valid_3, target_valid_3)\n",
    "print('Регион 3:')\n",
    "print('Средний запас предсказанного сырья: {:.2f} тыс. баррелей'.format(predictions_3.mean()))\n",
    "print('RMSE: {:.2f}'.format(rmse_3))\n",
    "print()"
   ]
  },
  {
   "cell_type": "markdown",
   "metadata": {},
   "source": [
    "<div style=\"border: solid darkcyan 3px; padding: 30px\">\n",
    "    <h3 style=\"color:black; margin-bottom:25px\"> Выводы: </h3>\n",
    "    <ul>\n",
    "        <li><b>В качестве модели использована линейная регрессия</b>;</li>\n",
    "        <li><b>Обучены модели на данных из каждого региона, получены предсказания</b>;</li>\n",
    "        <li><b>Произведено вычисление среднего запаса предсказанного сырья и среднеквадратичных ошибок</b>.</li>\n",
    "    </ul>\n",
    "</div>"
   ]
  },
  {
   "cell_type": "markdown",
   "metadata": {},
   "source": [
    "# 3. Подготовка к расчёту прибыли"
   ]
  },
  {
   "cell_type": "markdown",
   "metadata": {},
   "source": [
    "- `При разведке региона исследуют 500 точек, из которых выбирают 200 лучших для расчёта прибыли.`\n",
    "\n",
    "- `Бюджет на разработку скважин в регионе — 10 млрд рублей.`\n",
    "\n",
    "- `Один баррель сырья приносит 450 рублей дохода.`\n",
    "\n",
    "- `Доход с каждой единицы продукта составляет 450 тыс. рублей, поскольку объём указан в тысячах баррелей.`\n",
    "\n",
    "- `После оценки рисков нужно оставить лишь те регионы, в которых вероятность убытков меньше 2.5%.`\n",
    "\n",
    "- `Среди них выбирают регион с наибольшей средней прибылью.`"
   ]
  },
  {
   "cell_type": "markdown",
   "metadata": {},
   "source": [
    "**Сохраним константы**, полученные из условия, вычислим пороговое значение, при котором разработка нового месторождения не будет убыточной:"
   ]
  },
  {
   "cell_type": "code",
   "execution_count": 11,
   "metadata": {},
   "outputs": [],
   "source": [
    "OILFIELD_SAMPLE = 500\n",
    "OILFIELD_SAMPLE_BEST = 200\n",
    "EXPLOITATION_BUDGET = 10000000000\n",
    "OIL_UNIT_COST = 450000\n",
    "LOSSES_PROBABILITY_THRESHOLD = 0.025\n",
    "\n",
    "breakeven_exploitation_threshold = EXPLOITATION_BUDGET/OILFIELD_SAMPLE_BEST/OIL_UNIT_COST"
   ]
  },
  {
   "cell_type": "code",
   "execution_count": 12,
   "metadata": {},
   "outputs": [
    {
     "name": "stdout",
     "output_type": "stream",
     "text": [
      "Достаточный объём сырья для безубыточной разработки новой скважины: 112 тыс. баррелей\n"
     ]
    }
   ],
   "source": [
    "print('Достаточный объём сырья для безубыточной разработки новой скважины: {:.0f} тыс. баррелей'\n",
    "     .format(np.ceil(breakeven_exploitation_threshold)))"
   ]
  },
  {
   "cell_type": "markdown",
   "metadata": {},
   "source": [
    "Видно, что полученное **пороговое значение объёмов сырья, при котором разработка скважины не будет убыточной, значительно больше любого из средних значений запасов сырья в каждом из трёх регионов**.\n",
    "\n",
    "Цифры подтверждают очевидный факт: **далеко не каждое месторождение потенциально может принести прибыль**."
   ]
  },
  {
   "cell_type": "markdown",
   "metadata": {},
   "source": [
    "# 4. Расчёт прибыли и рисков "
   ]
  },
  {
   "cell_type": "code",
   "execution_count": 13,
   "metadata": {},
   "outputs": [],
   "source": [
    "def select_oilfields(data):\n",
    "    data_sample = (data\n",
    "                   .sample(OILFIELD_SAMPLE)\n",
    "                   .sort_values(by='product_predicted', ascending=False)\n",
    "                   .head(OILFIELD_SAMPLE_BEST))\n",
    "    return data_sample\n",
    "\n",
    "def estimate_profit(oil_supplies):\n",
    "    profit = oil_supplies['product'].sum()*OIL_UNIT_COST - EXPLOITATION_BUDGET\n",
    "    return np.float64(profit)"
   ]
  },
  {
   "cell_type": "code",
   "execution_count": 14,
   "metadata": {},
   "outputs": [],
   "source": [
    "data_profit_1 = features_valid_1\n",
    "data_profit_1['number'] = range(0, 25000)\n",
    "data_profit_1['product'] = target_valid_1\n",
    "data_profit_1['product_predicted'] = predictions_1\n",
    "data_profit_1 = data_profit_1[['number', 'f0', 'f1', 'f2', 'product_predicted', 'product']]\n",
    "\n",
    "data_profit_2 = features_valid_2\n",
    "data_profit_2['number'] = range(0, 25000)\n",
    "data_profit_2['product'] = target_valid_2\n",
    "data_profit_2['product_predicted'] = predictions_2\n",
    "data_profit_2 = data_profit_2[['number', 'f0', 'f1', 'f2', 'product_predicted', 'product']]\n",
    "\n",
    "data_profit_3 = features_valid_3\n",
    "data_profit_3['number'] = range(0, 25000)\n",
    "data_profit_3['product'] = target_valid_3\n",
    "data_profit_3['product_predicted'] = predictions_3\n",
    "data_profit_3 = data_profit_3[['number', 'f0', 'f1', 'f2', 'product_predicted', 'product']]"
   ]
  },
  {
   "cell_type": "code",
   "execution_count": 15,
   "metadata": {},
   "outputs": [
    {
     "data": {
      "text/plain": [
       "256330509.3543129"
      ]
     },
     "execution_count": 15,
     "metadata": {},
     "output_type": "execute_result"
    }
   ],
   "source": [
    "estimate_profit(select_oilfields(data_profit_1))"
   ]
  },
  {
   "cell_type": "code",
   "execution_count": 16,
   "metadata": {},
   "outputs": [
    {
     "data": {
      "text/html": [
       "<div>\n",
       "<style scoped>\n",
       "    .dataframe tbody tr th:only-of-type {\n",
       "        vertical-align: middle;\n",
       "    }\n",
       "\n",
       "    .dataframe tbody tr th {\n",
       "        vertical-align: top;\n",
       "    }\n",
       "\n",
       "    .dataframe thead th {\n",
       "        text-align: right;\n",
       "    }\n",
       "</style>\n",
       "<table border=\"1\" class=\"dataframe\">\n",
       "  <thead>\n",
       "    <tr style=\"text-align: right;\">\n",
       "      <th></th>\n",
       "      <th>region</th>\n",
       "      <th>profit</th>\n",
       "    </tr>\n",
       "  </thead>\n",
       "  <tbody>\n",
       "    <tr>\n",
       "      <th>0</th>\n",
       "      <td>1</td>\n",
       "      <td>2.564668e+08</td>\n",
       "    </tr>\n",
       "    <tr>\n",
       "      <th>1</th>\n",
       "      <td>2</td>\n",
       "      <td>2.522741e+08</td>\n",
       "    </tr>\n",
       "    <tr>\n",
       "      <th>2</th>\n",
       "      <td>3</td>\n",
       "      <td>2.593132e+08</td>\n",
       "    </tr>\n",
       "  </tbody>\n",
       "</table>\n",
       "</div>"
      ],
      "text/plain": [
       "   region        profit\n",
       "0       1  2.564668e+08\n",
       "1       2  2.522741e+08\n",
       "2       3  2.593132e+08"
      ]
     },
     "metadata": {},
     "output_type": "display_data"
    }
   ],
   "source": [
    "data_profit = [[1, estimate_profit(select_oilfields(data_profit_1))],\n",
    "               [2, estimate_profit(select_oilfields(data_profit_2))],\n",
    "               [3, estimate_profit(select_oilfields(data_profit_3))]]\n",
    "\n",
    "profits = pd.DataFrame(data = data_profit, columns=['region', 'profit'])\n",
    "\n",
    "display(profits)"
   ]
  },
  {
   "cell_type": "markdown",
   "metadata": {},
   "source": [
    "Применим Bootstrap:"
   ]
  },
  {
   "cell_type": "code",
   "execution_count": 17,
   "metadata": {
    "scrolled": false
   },
   "outputs": [
    {
     "name": "stdout",
     "output_type": "stream",
     "text": [
      "Регион 1:\n"
     ]
    },
    {
     "data": {
      "image/png": "[encoded data removed]",
      "text/plain": [
       "<Figure size 1008x720 with 1 Axes>"
      ]
     },
     "metadata": {},
     "output_type": "display_data"
    },
    {
     "name": "stdout",
     "output_type": "stream",
     "text": [
      "Средняя прибыль: 384260328.78 руб.\n",
      "95%-ый доверительный интервал: (367080235.8510536, 401440421.7114582)\n",
      "Риск убытков: 8.3%\n",
      "\n",
      "\n",
      "\n",
      "Регион 2:\n"
     ]
    },
    {
     "data": {
      "image/png": "[encoded data removed]",
      "text/plain": [
       "<Figure size 1008x720 with 1 Axes>"
      ]
     },
     "metadata": {},
     "output_type": "display_data"
    },
    {
     "name": "stdout",
     "output_type": "stream",
     "text": [
      "Средняя прибыль: 455016071.75 руб.\n",
      "95%-ый доверительный интервал: (442410046.76319754, 467622096.7308676)\n",
      "Риск убытков: 1.5%\n",
      "\n",
      "\n",
      "\n",
      "Регион 3:\n"
     ]
    },
    {
     "data": {
      "image/png": "[encoded data removed]",
      "text/plain": [
       "<Figure size 1008x720 with 1 Axes>"
      ]
     },
     "metadata": {},
     "output_type": "display_data"
    },
    {
     "name": "stdout",
     "output_type": "stream",
     "text": [
      "Средняя прибыль: 380893248.28 руб.\n",
      "95%-ый доверительный интервал: (363791809.8246211, 397994686.73901)\n",
      "Риск убытков: 9.0%\n",
      "\n",
      "\n",
      "\n"
     ]
    }
   ],
   "source": [
    "state = np.random.RandomState(12345)\n",
    "\n",
    "bootstrap_values_1 = []\n",
    "bootstrap_values_2 = []\n",
    "bootstrap_values_3 = []\n",
    "\n",
    "bins = np.int64(np.ceil(1 + m.log2(1000)))\n",
    "\n",
    "\n",
    "for i in range(1000):\n",
    "    \n",
    "    data_subsample_1 = data_profit_1.sample(n=500, replace=True, random_state=state)\n",
    "    bootstrap_values_1.append(estimate_profit(select_oilfields(data_subsample_1)))\n",
    "    \n",
    "    data_subsample_2 = data_profit_2.sample(n=500, replace=True, random_state=state)\n",
    "    bootstrap_values_2.append(estimate_profit(select_oilfields(data_subsample_2)))\n",
    "    \n",
    "    data_subsample_3 = data_profit_3.sample(n=500, replace=True, random_state=state)\n",
    "    bootstrap_values_3.append(estimate_profit(select_oilfields(data_subsample_3)))\n",
    "    \n",
    "\n",
    "bootstrap_values_1 = pd.Series(bootstrap_values_1)\n",
    "bootstrap_values_2 = pd.Series(bootstrap_values_2)\n",
    "bootstrap_values_3 = pd.Series(bootstrap_values_3)\n",
    "\n",
    "\n",
    "confidence_interval_1 = st.t.interval(alpha=0.95,\n",
    "                                    df=len(bootstrap_values_1),\n",
    "                                    loc=bootstrap_values_1.mean(),\n",
    "                                    scale=bootstrap_values_1.sem())\n",
    "confidence_interval_2 = st.t.interval(alpha=0.95,\n",
    "                                    df=len(bootstrap_values_2),\n",
    "                                    loc=bootstrap_values_2.mean(),\n",
    "                                    scale=bootstrap_values_2.sem())\n",
    "confidence_interval_3 = st.t.interval(alpha=0.95,\n",
    "                                    df=len(bootstrap_values_3),\n",
    "                                    loc=bootstrap_values_3.mean(),\n",
    "                                    scale=bootstrap_values_3.sem())\n",
    "\n",
    "\n",
    "profit_mean_1 = bootstrap_values_1.mean()\n",
    "profit_mean_2 = bootstrap_values_2.mean()\n",
    "profit_mean_3 = bootstrap_values_3.mean()\n",
    "\n",
    "\n",
    "losses_risk_1 = (bootstrap_values_1 < 0).mean()\n",
    "losses_risk_2 = (bootstrap_values_2 < 0).mean()\n",
    "losses_risk_3 = (bootstrap_values_3 < 0).mean()\n",
    "\n",
    "\n",
    "print('Регион 1:')\n",
    "sns.distplot(bootstrap_values_1,\n",
    "             bins=bins,\n",
    "             kde=True,\n",
    "             color=\"teal\",\n",
    "             norm_hist=True,\n",
    "             axlabel='Прибыль')\n",
    "plt.show()\n",
    "print('Средняя прибыль: {:.2f} руб.'.format(profit_mean_1))\n",
    "print(\"95%-ый доверительный интервал:\", confidence_interval_1)\n",
    "print('Риск убытков: {:.1%}'.format(losses_risk_1))\n",
    "print()\n",
    "print()\n",
    "print()\n",
    "    \n",
    "\n",
    "print('Регион 2:')\n",
    "sns.distplot(bootstrap_values_2,\n",
    "             bins=bins,\n",
    "             kde=True,\n",
    "             color=\"teal\",\n",
    "             norm_hist=True,\n",
    "             axlabel='Прибыль')\n",
    "plt.show()\n",
    "print('Средняя прибыль: {:.2f} руб.'.format(profit_mean_2))\n",
    "print(\"95%-ый доверительный интервал:\", confidence_interval_2)\n",
    "print('Риск убытков: {:.1%}'.format(losses_risk_2))\n",
    "print()\n",
    "print()\n",
    "print()\n",
    "\n",
    "\n",
    "print('Регион 3:')\n",
    "sns.distplot(bootstrap_values_3,\n",
    "             bins=bins,\n",
    "             kde=True,\n",
    "             color=\"teal\",\n",
    "             norm_hist=True,\n",
    "             axlabel='Прибыль')\n",
    "plt.show()\n",
    "print('Средняя прибыль: {:.2f} руб.'.format(profit_mean_3))\n",
    "print(\"95%-ый доверительный интервал:\", confidence_interval_3)\n",
    "print('Риск убытков: {:.1%}'.format(losses_risk_3))\n",
    "print()\n",
    "print()\n",
    "print()\n"
   ]
  },
  {
   "cell_type": "markdown",
   "metadata": {},
   "source": [
    "Добыча принесёт наибольшую прибыль **во втором регионе**, при этом риск убытков значительно меньше порогового — всего 1,5%."
   ]
  },
  {
   "cell_type": "markdown",
   "metadata": {},
   "source": [
    "<div style=\"border: solid darkcyan 3px; padding: 30px\">\n",
    "    <h3 style=\"color:black; margin-bottom:25px\"> Общий вывод: </h3>\n",
    "    <ul>\n",
    "        <li><b>Загружен и проанализирован датасет</b>;</li>\n",
    "        <li><b>Изучена природа \"псевдоместорождений\"</b>;</li>\n",
    "        <li><b>Получены обучающие и валидационные подвыборки для каждого региона</b>;</li>\n",
    "        <li><b>В качестве модели использована линейная регрессия</b>;</li>\n",
    "        <li><b>Обучены модели на данных из каждого региона, предсказаны запасы сырья</b>;</li>\n",
    "        <li><b>Произведено вычисление среднего запаса предсказанного сырья и среднеквадратичных ошибок</b>;</li>\n",
    "        <li><b>Техникой Bootstrap найдено распределение прибыли, вычислены средние значения, найден девяностопятипроцентный доверительный интервал, произведена оценка рисков убытков</b>;</li>\n",
    "        <li><b>Для разработки новых месторождений был выбран второй регион</b>.</li>\n",
    "    </ul>\n",
    "</div>"
   ]
  }
 ],
 "metadata": {
  "kernelspec": {
   "display_name": "Python 3",
   "language": "python",
   "name": "python3"
  },
  "language_info": {
   "codemirror_mode": {
    "name": "ipython",
    "version": 3
   },
   "file_extension": ".py",
   "mimetype": "text/x-python",
   "name": "python",
   "nbconvert_exporter": "python",
   "pygments_lexer": "ipython3",
   "version": "3.7.6"
  }
 },
 "nbformat": 4,
 "nbformat_minor": 2
}
